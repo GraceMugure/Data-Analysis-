{
 "cells": [
  {
   "cell_type": "code",
   "execution_count": null,
   "id": "b62c8b5c-49e0-4a5a-ab1d-622d60e5656d",
   "metadata": {
    "scrolled": true
   },
   "outputs": [],
   "source": [
    "#Tak 1\n",
    "import pandas as pd\n",
    "#Load the dataset\n",
    "df = pd.read_csv('iris.csv.csv')\n",
    "\n",
    "#Display the first few rows \n",
    "print(\"First few rows of the dataset:\")\n",
    "print(df.head())\n",
    "\n",
    "#check for misssing values \n",
    "print(df.isnull().sum())\n",
    "\n",
    "#Drop rows with missing values\n",
    "df_cleaned = df.dropna()\n",
    "\n",
    "#fill missing values with mean \n",
    "df_filled = df.copy()\n",
    "\n",
    "#Dispaly cleaned dataset\n",
    "# print(df_cleaned.head())"
   ]
  },
  {
   "cell_type": "code",
   "execution_count": null,
   "id": "0643a4c2-8481-4b7d-9e5c-10c55399b7a4",
   "metadata": {},
   "outputs": [],
   "source": [
    "# Tak 2 \n",
    "import pandas as pd\n",
    "df = pd.read_csv('iris.csv.csv')\n",
    "print(df.head())\n",
    "\n",
    "#Basic statistics (mean, median, standard deviation) for numerical columns\n",
    "print(df.describe())\n",
    "\n",
    "#Grouping by the 'species' column and computing the mean of numerical columns for each group\n",
    "print(\"\\nMean of numerical columns grouped by species:\")\n",
    "print(df.groupby('species').mean())"
   ]
  },
  {
   "cell_type": "code",
   "execution_count": null,
   "id": "ed25744c-d261-470d-811a-c1e5af3637d2",
   "metadata": {
    "scrolled": true
   },
   "outputs": [],
   "source": [
    "#Task 3 \n",
    "import matplotlib.pyplot as plt\n",
    "import seaborn as sns\n",
    "\n",
    "# Set the seaborn style\n",
    "sns.set(style=\"whitegrid\")\n",
    "\n",
    "# 1. Line Chart (Simulating a time-series using the index as the time)\n",
    "plt.figure(figsize=(10,6))\n",
    "plt.plot(df.index, df['sepal_length'], label='Sepal Length', color='blue', linewidth=2)\n",
    "plt.title('Sepal Length Trend Over Time (Index as Time)', fontsize=14)\n",
    "plt.xlabel('Index (Simulated Time)', fontsize=12)\n",
    "plt.ylabel('Sepal Length (cm)', fontsize=12)\n",
    "plt.legend()\n",
    "plt.show()\n",
    "\n",
    "# 2. Bar Chart (Average petal length per species)\n",
    "plt.figure(figsize=(8, 6))\n",
    "sns.barplot(x='species', y='petal_length', data=df, palette='muted')\n",
    "plt.title('Average Petal Length per Species', fontsize=14)\n",
    "plt.xlabel('Species', fontsize=12)\n",
    "plt.ylabel('Average Petal Length (cm)', fontsize=12)\n",
    "plt.show()\n",
    "\n",
    "#3. Histogram (Distribution of sepal_length)\n",
    "plt.figure(figsize=(8, 6))\n",
    "sns.histplot(df['sepal_length'], bins=15, kde=True, color='green')\n",
    "plt.title('Distribution of Sepal Length', fontsize=14)\n",
    "plt.xlabel('Sepal Length (cm)', fontsize=12)\n",
    "plt.ylabel('Frequency', fontsize=12)\n",
    "plt.show()\n",
    "\n",
    "#4. Scatter Plot (Sepal Length vs Petal Length)\n",
    "plt.figure(figsize=(8, 6))\n",
    "sns.scatterplot(x='sepal_length', y='petal_length', data=df, hue='species', palette='Set1')\n",
    "plt.title('Sepal Length vs Petal Length', fontsize=14)\n",
    "plt.xlabel('Sepal Length (cm)', fontsize=12)\n",
    "plt.ylabel('Petal Length (cm)', fontsize=12)\n",
    "plt.legend(title='Species')\n",
    "plt.show()\n"
   ]
  }
 ],
 "metadata": {
  "kernelspec": {
   "display_name": "anaconda-panel-2023.05-py310",
   "language": "python",
   "name": "conda-env-anaconda-panel-2023.05-py310-py"
  },
  "language_info": {
   "codemirror_mode": {
    "name": "ipython",
    "version": 3
   },
   "file_extension": ".py",
   "mimetype": "text/x-python",
   "name": "python",
   "nbconvert_exporter": "python",
   "pygments_lexer": "ipython3",
   "version": "3.11.5"
  }
 },
 "nbformat": 4,
 "nbformat_minor": 5
}
